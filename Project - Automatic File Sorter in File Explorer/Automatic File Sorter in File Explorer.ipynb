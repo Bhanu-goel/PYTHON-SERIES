{
 "cells": [
  {
   "cell_type": "markdown",
   "id": "144fa634",
   "metadata": {},
   "source": [
    "# Automatic File Sorter in File Explorer"
   ]
  },
  {
   "cell_type": "code",
   "execution_count": 20,
   "id": "8eb2abd3",
   "metadata": {},
   "outputs": [],
   "source": [
    "import os,shutil"
   ]
  },
  {
   "cell_type": "code",
   "execution_count": 21,
   "id": "fdd0736e",
   "metadata": {},
   "outputs": [],
   "source": [
    "path = r'C:/Users/NGCS/Desktop/Python Tutorial/Project - Automatic File Sorter in File Explorer/Demo/'"
   ]
  },
  {
   "cell_type": "code",
   "execution_count": 22,
   "id": "6b062fba",
   "metadata": {},
   "outputs": [],
   "source": [
    "file_name = os.listdir(path)"
   ]
  },
  {
   "cell_type": "code",
   "execution_count": 23,
   "id": "c6317fb7",
   "metadata": {},
   "outputs": [],
   "source": [
    "folder_names = ['xlsx files','image files','text files']\n",
    "\n",
    "for folder in range(len(folder_names)):\n",
    "    if not os.path.exists(path+folder_names[folder]):\n",
    "        os.makedirs(path+folder_names[folder])"
   ]
  },
  {
   "cell_type": "code",
   "execution_count": 24,
   "id": "35d83a6a",
   "metadata": {},
   "outputs": [],
   "source": [
    "for file in file_name:\n",
    "    if '.xlsx' in file and not os.path.exists(path+'xlsx files/'+file):\n",
    "        shutil.move(path+file,path+'xlsx files/'+file)\n",
    "    elif '.jpg' in file and not os.path.exists(path+'image files/'+file):\n",
    "        shutil.move(path+file,path+'image files/'+file)\n",
    "    elif '.txt' in file and not os.path.exists(path+'text files/'+file):\n",
    "        shutil.move(path+file,path+'text files/'+file)"
   ]
  },
  {
   "cell_type": "code",
   "execution_count": null,
   "id": "0bdb7446",
   "metadata": {},
   "outputs": [],
   "source": []
  }
 ],
 "metadata": {
  "kernelspec": {
   "display_name": "Python 3 (ipykernel)",
   "language": "python",
   "name": "python3"
  },
  "language_info": {
   "codemirror_mode": {
    "name": "ipython",
    "version": 3
   },
   "file_extension": ".py",
   "mimetype": "text/x-python",
   "name": "python",
   "nbconvert_exporter": "python",
   "pygments_lexer": "ipython3",
   "version": "3.9.12"
  }
 },
 "nbformat": 4,
 "nbformat_minor": 5
}
