{
 "cells": [
  {
   "cell_type": "markdown",
   "id": "d1dac975",
   "metadata": {},
   "source": [
    "#VARIABLES IN PYTHON"
   ]
  },
  {
   "cell_type": "code",
   "execution_count": 2,
   "id": "dbb0454e",
   "metadata": {},
   "outputs": [
    {
     "name": "stdout",
     "output_type": "stream",
     "text": [
      "22\n"
     ]
    }
   ],
   "source": [
    "X = 22\n",
    "print(X)"
   ]
  },
  {
   "cell_type": "code",
   "execution_count": 3,
   "id": "9728d753",
   "metadata": {},
   "outputs": [
    {
     "data": {
      "text/plain": [
       "int"
      ]
     },
     "execution_count": 3,
     "metadata": {},
     "output_type": "execute_result"
    }
   ],
   "source": [
    "type(X)"
   ]
  },
  {
   "cell_type": "code",
   "execution_count": 4,
   "id": "d690ff39",
   "metadata": {},
   "outputs": [
    {
     "name": "stdout",
     "output_type": "stream",
     "text": [
      "Mint Chocolate Chip\n"
     ]
    }
   ],
   "source": [
    "y = 'Mint Chocolate Chip'\n",
    "print(y)"
   ]
  },
  {
   "cell_type": "code",
   "execution_count": 5,
   "id": "0ed19c1c",
   "metadata": {},
   "outputs": [
    {
     "data": {
      "text/plain": [
       "str"
      ]
     },
     "execution_count": 5,
     "metadata": {},
     "output_type": "execute_result"
    }
   ],
   "source": [
    "type(y)"
   ]
  },
  {
   "cell_type": "code",
   "execution_count": 8,
   "id": "847ad695",
   "metadata": {},
   "outputs": [
    {
     "name": "stdout",
     "output_type": "stream",
     "text": [
      "Mint Chocolate Chip\n"
     ]
    }
   ],
   "source": [
    "y = 'Chocolate'\n",
    "\n",
    "Y = 'Mint Chocolate Chip'\n",
    "\n",
    "print(y)"
   ]
  },
  {
   "cell_type": "markdown",
   "id": "92588441",
   "metadata": {},
   "source": [
    "ASSIGN MULTIPLE VARIABLES"
   ]
  },
  {
   "cell_type": "code",
   "execution_count": 9,
   "id": "5afa4769",
   "metadata": {},
   "outputs": [
    {
     "name": "stdout",
     "output_type": "stream",
     "text": [
      "Chocolate\n",
      "Vanilla\n",
      "Rocky Road\n"
     ]
    }
   ],
   "source": [
    "x,y,z = 'Chocolate','Vanilla','Rocky Road'\n",
    "\n",
    "print(x)\n",
    "print(y)\n",
    "print(z)"
   ]
  },
  {
   "cell_type": "code",
   "execution_count": 10,
   "id": "745fa4b5",
   "metadata": {},
   "outputs": [
    {
     "name": "stdout",
     "output_type": "stream",
     "text": [
      "Root Beer Float\n",
      "Root Beer Float\n",
      "Root Beer Float\n"
     ]
    }
   ],
   "source": [
    "x = y = z = 'Root Beer Float'\n",
    "\n",
    "print(x)\n",
    "print(y)\n",
    "print(z)"
   ]
  },
  {
   "cell_type": "code",
   "execution_count": 11,
   "id": "3c403032",
   "metadata": {},
   "outputs": [
    {
     "name": "stdout",
     "output_type": "stream",
     "text": [
      "Chocolate\n",
      "Vanilla\n",
      "Rocky Road\n"
     ]
    }
   ],
   "source": [
    "icecream = ['Chocolate','Vanilla','Rocky Road']\n",
    "x,y,z = icecream\n",
    "\n",
    "print(x)\n",
    "print(y)\n",
    "print(z)"
   ]
  },
  {
   "cell_type": "markdown",
   "id": "a0c80d97",
   "metadata": {},
   "source": [
    "VARIABLE CASE"
   ]
  },
  {
   "cell_type": "markdown",
   "id": "21ef54e3",
   "metadata": {},
   "source": [
    "CAMEL CASE"
   ]
  },
  {
   "cell_type": "code",
   "execution_count": 12,
   "id": "ef8a9602",
   "metadata": {},
   "outputs": [],
   "source": [
    "testVariableCase = 'vanilla swirl'"
   ]
  },
  {
   "cell_type": "markdown",
   "id": "a913a545",
   "metadata": {},
   "source": [
    "PASCAL CASE"
   ]
  },
  {
   "cell_type": "code",
   "execution_count": 13,
   "id": "f2d6e628",
   "metadata": {},
   "outputs": [],
   "source": [
    "TestVariableCase = 'vanilla swirl'"
   ]
  },
  {
   "cell_type": "markdown",
   "id": "ae8beb63",
   "metadata": {},
   "source": [
    "SNAKE CASE"
   ]
  },
  {
   "cell_type": "code",
   "execution_count": 14,
   "id": "17de5e92",
   "metadata": {},
   "outputs": [],
   "source": [
    "test_variable_case = 'vanilla swirl'"
   ]
  },
  {
   "cell_type": "markdown",
   "id": "284e199e",
   "metadata": {},
   "source": [
    "WHICH VARIABLE CAN WE USE"
   ]
  },
  {
   "cell_type": "code",
   "execution_count": 15,
   "id": "60ab7dfd",
   "metadata": {},
   "outputs": [],
   "source": [
    "testvar = 'vanilla swirl'\n",
    "test_var = 'vanilla swirl'\n",
    "_test_var = 'vanilla swirl'\n",
    "testVar = 'vanilla swirl'\n",
    "TestVar = 'vanilla swirl'\n",
    "testvar2 = 'vanilla swirl'"
   ]
  },
  {
   "cell_type": "markdown",
   "id": "8f849318",
   "metadata": {},
   "source": [
    "WHICH VARIABLE NOT ALLOWED"
   ]
  },
  {
   "cell_type": "code",
   "execution_count": 16,
   "id": "746f4b2e",
   "metadata": {},
   "outputs": [
    {
     "ename": "SyntaxError",
     "evalue": "invalid syntax (769209799.py, line 1)",
     "output_type": "error",
     "traceback": [
      "\u001b[1;36m  Input \u001b[1;32mIn [16]\u001b[1;36m\u001b[0m\n\u001b[1;33m    2testvar = 'vanilla swirl'\u001b[0m\n\u001b[1;37m     ^\u001b[0m\n\u001b[1;31mSyntaxError\u001b[0m\u001b[1;31m:\u001b[0m invalid syntax\n"
     ]
    }
   ],
   "source": [
    "2testvar = 'vanilla swirl'\n",
    "test-var = 'vanilla swirl'\n",
    "test var = 'vanilla swirl'\n",
    "test,var = 'vanilla swirl'"
   ]
  },
  {
   "cell_type": "markdown",
   "id": "28993be1",
   "metadata": {},
   "source": [
    "OPERATOR WITH VARIABLES"
   ]
  },
  {
   "cell_type": "code",
   "execution_count": 18,
   "id": "c1f4e9fc",
   "metadata": {},
   "outputs": [
    {
     "name": "stdout",
     "output_type": "stream",
     "text": [
      "icecream is my favourite.\n"
     ]
    }
   ],
   "source": [
    "x = 'icecream is my favourite'+'.'\n",
    "print(x)"
   ]
  },
  {
   "cell_type": "code",
   "execution_count": 19,
   "id": "db50bb3c",
   "metadata": {},
   "outputs": [
    {
     "name": "stdout",
     "output_type": "stream",
     "text": [
      "5\n"
     ]
    }
   ],
   "source": [
    "x = 2\n",
    "y = 3\n",
    "print(x + y)"
   ]
  },
  {
   "cell_type": "markdown",
   "id": "e35ccf4f",
   "metadata": {},
   "source": [
    "CANNOT CONCATENATE STRING WITH INT TYPE"
   ]
  },
  {
   "cell_type": "code",
   "execution_count": 20,
   "id": "0f16e094",
   "metadata": {},
   "outputs": [
    {
     "ename": "TypeError",
     "evalue": "can only concatenate str (not \"int\") to str",
     "output_type": "error",
     "traceback": [
      "\u001b[1;31m---------------------------------------------------------------------------\u001b[0m",
      "\u001b[1;31mTypeError\u001b[0m                                 Traceback (most recent call last)",
      "Input \u001b[1;32mIn [20]\u001b[0m, in \u001b[0;36m<cell line: 1>\u001b[1;34m()\u001b[0m\n\u001b[1;32m----> 1\u001b[0m x \u001b[38;5;241m=\u001b[39m \u001b[38;5;124;43m'\u001b[39;49m\u001b[38;5;124;43micecream\u001b[39;49m\u001b[38;5;124;43m'\u001b[39;49m\u001b[38;5;241;43m+\u001b[39;49m\u001b[38;5;241;43m2\u001b[39;49m\n\u001b[0;32m      2\u001b[0m \u001b[38;5;28mprint\u001b[39m(x)\n",
      "\u001b[1;31mTypeError\u001b[0m: can only concatenate str (not \"int\") to str"
     ]
    }
   ],
   "source": [
    "x = 'icecream'+2\n",
    "print(x)"
   ]
  },
  {
   "cell_type": "code",
   "execution_count": 21,
   "id": "59428a6d",
   "metadata": {},
   "outputs": [
    {
     "name": "stdout",
     "output_type": "stream",
     "text": [
      "9\n"
     ]
    }
   ],
   "source": [
    "x=2\n",
    "y=3\n",
    "z=4\n",
    "print(x+y+z)"
   ]
  },
  {
   "cell_type": "code",
   "execution_count": 22,
   "id": "ca0cccd8",
   "metadata": {},
   "outputs": [
    {
     "name": "stdout",
     "output_type": "stream",
     "text": [
      "ILoveIcecream\n"
     ]
    }
   ],
   "source": [
    "x='I'\n",
    "y='Love'\n",
    "z='Icecream'\n",
    "print(x+y+z)"
   ]
  },
  {
   "cell_type": "code",
   "execution_count": null,
   "id": "c8188818",
   "metadata": {},
   "outputs": [],
   "source": []
  }
 ],
 "metadata": {
  "kernelspec": {
   "display_name": "Python 3 (ipykernel)",
   "language": "python",
   "name": "python3"
  },
  "language_info": {
   "codemirror_mode": {
    "name": "ipython",
    "version": 3
   },
   "file_extension": ".py",
   "mimetype": "text/x-python",
   "name": "python",
   "nbconvert_exporter": "python",
   "pygments_lexer": "ipython3",
   "version": "3.9.12"
  }
 },
 "nbformat": 4,
 "nbformat_minor": 5
}
